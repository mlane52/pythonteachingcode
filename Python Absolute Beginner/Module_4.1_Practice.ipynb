{
 "cells": [
  {
   "cell_type": "markdown",
   "metadata": {},
   "source": [
    "# Module 4 Practice\n",
    "## Nested Conditionals\n",
    "<font size=\"5\" color=\"#00A0B2\"  face=\"verdana\"> <B>Student will be able to</B></font>\n",
    "- create nested conditional logic in code  \n",
    "- print format print using escape sequence (**\\**)"
   ]
  },
  {
   "cell_type": "markdown",
   "metadata": {},
   "source": [
    "# &nbsp;\n",
    "<font size=\"6\" color=\"#B24C00\"  face=\"verdana\"> <B>Tasks</B></font>  "
   ]
  },
  {
   "cell_type": "code",
   "execution_count": 7,
   "metadata": {},
   "outputs": [
    {
     "name": "stdout",
     "output_type": "stream",
     "text": [
      "The new line character is \"\\n\"\n"
     ]
    }
   ],
   "source": [
    "# [ ] print a string that outputs the following exactly: The new line character is \"\\n\"\n",
    "print('The new line character is \"\\\\n\"')"
   ]
  },
  {
   "cell_type": "code",
   "execution_count": 8,
   "metadata": {},
   "outputs": [
    {
     "name": "stdout",
     "output_type": "stream",
     "text": [
      "That's how we escape!\n"
     ]
    }
   ],
   "source": [
    "# [ ] print output that is exactly (with quotes): \"That's how we escape!\"\n",
    "print('That\\'s how we escape!')\n"
   ]
  },
  {
   "cell_type": "code",
   "execution_count": 11,
   "metadata": {},
   "outputs": [
    {
     "name": "stdout",
     "output_type": "stream",
     "text": [
      "# 1\tone\n",
      "# 22\ttwo\n",
      "# 333\tthree\n"
     ]
    }
   ],
   "source": [
    "# [ ] with only 1 print statement and using No Space Characters, output the text commented below  \n",
    "\n",
    "# 1       one\n",
    "# 22      two\n",
    "# 333     three\n",
    "print(\"# 1\\tone\\n# 22\\ttwo\\n# 333\\tthree\")\n",
    "\n"
   ]
  },
  {
   "cell_type": "markdown",
   "metadata": {},
   "source": [
    "# &nbsp;\n",
    "## Program: quote_me() Function\n",
    "quote_me takes a string argument and returns a string that will display surrounded with **added double quotes** if printed  \n",
    "- check if passed string starts with a double quote (`\"\\\"\"`), then surround string with single quotations \n",
    "- if the passed string starts with single quote, or if doesn't start with a quotation mark, then surround with double quotations  \n",
    "\n",
    "Test the function code passing string input as the argument to quote_me() "
   ]
  },
  {
   "cell_type": "code",
   "execution_count": 21,
   "metadata": {},
   "outputs": [
    {
     "name": "stdout",
     "output_type": "stream",
     "text": [
      "'\"Quote\"'\n",
      "Use quotes in the input.\n"
     ]
    }
   ],
   "source": [
    "# [ ] create and test quote_me()\n",
    "\n",
    "def quote_me(phrase):\n",
    "    if phrase.startswith(\"\\\"\"):\n",
    "        print('\\'' + phrase + '\\'')\n",
    "    if phrase.startswith('\\''):\n",
    "        print(\"\\\"\" + phrase + \"\\\"\")\n",
    "    else:\n",
    "        print(\"Use quotes in the input.\")\n",
    "\n",
    "quote_me(\"\\\"Quote\\\"\")\n",
    "\n"
   ]
  },
  {
   "cell_type": "markdown",
   "metadata": {},
   "source": [
    "# &nbsp;\n",
    "### Program: shirt order \n",
    "First get input for color and size  \n",
    "- White has sizes L, M \n",
    "- Blue has sizes M, S  \n",
    "\n",
    "print available or unavailable, then  \n",
    "print the order confirmation of color and size  \n",
    "\n",
    "*\n",
    "**hint**: set a variable \"available = False\" before nested if statements and  \n",
    "change to True if color and size are avaliable*"
   ]
  },
  {
   "cell_type": "code",
   "execution_count": 27,
   "metadata": {},
   "outputs": [
    {
     "name": "stdout",
     "output_type": "stream",
     "text": [
      "Available\n",
      "The blue shirt is available in your size, m !\n",
      "None\n"
     ]
    }
   ],
   "source": [
    "# [ ] create shirt order using nested if \n",
    "\n",
    "color = input(\"What shirt color? \" ).lower()\n",
    "size = input(\"What shirt size? \" ).lower()\n",
    "\n",
    "available = False\n",
    "\n",
    "\n",
    "if color == \"white\":\n",
    "    if size == \"m\" or size == \"l\":\n",
    "        available = True\n",
    "        print(\"Available\")\n",
    "\n",
    "    else:\n",
    "        print(\"Unavailable\")\n",
    "\n",
    "elif color == \"blue\":\n",
    "    if size == \"s\" or size == \"m\":\n",
    "        available = True\n",
    "        print(\"Available\")\n",
    "\n",
    "    else:\n",
    "        print(\"Unavailable\")\n",
    "\n",
    "else:\n",
    "    print(\"Nope\")\n",
    "\n",
    "if available:    \n",
    "    output = print(\"The\", color, \"shirt is available in your size,\",size,\"!\")\n",
    "    print(output)"
   ]
  },
  {
   "cell_type": "markdown",
   "metadata": {},
   "source": [
    "# &nbsp;\n",
    "## Program: str_analysis() Function\n",
    "Create the str_analysis() function that takes a string argument.  In the body of the function:\n",
    "- Check `if` string is digits  \n",
    "  - if digits: convert to `int` and check `if` greater than 99  \n",
    "    - if greater than 99, print a message about a \"big number\"  \n",
    "    - if not greater than 99, print message about \"small number\"    \n",
    "  - if not digits: check if string isalpha\n",
    "    - if isalpha print message about being all alpha\n",
    "    - if not isalpha print a message about being neither all alpha nor all digit  \n",
    "    \n",
    "call the function with a string from user input "
   ]
  },
  {
   "cell_type": "code",
   "execution_count": 34,
   "metadata": {},
   "outputs": [
    {
     "name": "stdout",
     "output_type": "stream",
     "text": [
      "StringTester\n",
      "\n",
      "No input detected.\n",
      "No input detected.\n",
      "20 is a small number.\n"
     ]
    }
   ],
   "source": [
    "# [ ] create and test str_analysis()\n",
    "def str_analysis(string):\n",
    "    if string.isdigit(): \n",
    "        string = int(string) \n",
    "\n",
    "        if string > 99: \n",
    "            return str(string) + \" is a big number.\"\n",
    "        else:\n",
    "            return str(string) + \" is a small number.\"\n",
    "    else: \n",
    "        if string.isalpha(): \n",
    "            return string + \" uses all alpha.\"\n",
    "        else: \n",
    "            return string + \" neither all alpha nor digit.\"\n",
    "\n",
    "print(\"StringTester\\n\") \n",
    "\n",
    "while True:\n",
    "    user_input = input(\"Input string for testing: \") \n",
    "    if user_input == \"\": \n",
    "        print(\"No input detected.\")\n",
    "    else: \n",
    "        print(str_analysis(user_input)) \n",
    "        break      "
   ]
  },
  {
   "cell_type": "markdown",
   "metadata": {
    "collapsed": true
   },
   "source": [
    "# &nbsp;  \n",
    "### Program: ticket_check() - finds out if a seat is available  \n",
    "Call ticket_check() function with 2 arguments: *section* and *seats* requested and return True or False  \n",
    "- **section** is a string and expects: general, floor\n",
    "- **seats** is an integer and expects: 1 - 10  \n",
    "\n",
    "Check for valid section and seats\n",
    "- if section is *general* (or use startswith \"g\")  \n",
    "  - if seats is 1-10 return True \n",
    "- if section is *floor* (or use starts with \"f\")\n",
    "  - if seats is 1-4 return True  \n",
    "\n",
    "otherwise return False"
   ]
  },
  {
   "cell_type": "code",
   "execution_count": 37,
   "metadata": {},
   "outputs": [
    {
     "data": {
      "text/plain": [
       "True"
      ]
     },
     "execution_count": 37,
     "metadata": {},
     "output_type": "execute_result"
    }
   ],
   "source": [
    "# [ ] create and call ticket_check()\n",
    "#Call ticket_check() function with 2 arguments: section and seats requested and return True or False\n",
    "def ticket_check(section, seats):\n",
    "     \n",
    "    if section == \"general\":\n",
    "        if  0 < seats < 11:\n",
    "            return True\n",
    "    elif section == \"floor\":\n",
    "        if 0 < seats < 5:\n",
    "            return True\n",
    "    else:\n",
    "        return False\n",
    "sct = input(\"add a section: \")\n",
    "sts = input(\"add your seats: \")\n",
    "ticket_check(sct, int(sts))"
   ]
  },
  {
   "cell_type": "markdown",
   "metadata": {},
   "source": [
    "# Module 4 Practice 2\n",
    "## `while()` loops & increments\n",
    "<font size=\"5\" color=\"#00A0B2\"  face=\"verdana\"> <B>Student will be able to</B></font>\n",
    "- create forever loops using `while` and `break`\n",
    "- use incrementing variables in a while loop\n",
    "- control while loops using Boolean operators"
   ]
  },
  {
   "cell_type": "code",
   "execution_count": 42,
   "metadata": {},
   "outputs": [
    {
     "name": "stdout",
     "output_type": "stream",
     "text": [
      "1\n",
      "3\n",
      "6\n",
      "10\n"
     ]
    }
   ],
   "source": [
    "# [ ] use a \"forever\" while loop to get user input of integers to add to sum, \n",
    "# until a non-digit is entered, then break the loop and print sum\n",
    "sum = 0\n",
    "while True:\n",
    "     \n",
    "    sum1 = input(\"add number or 'exit' to quit: \")\n",
    "    if sum1 == 'exit':\n",
    "        break\n",
    "    if sum1.isdigit():\n",
    "        sum = sum + int(sum1)\n",
    "        print(sum)\n",
    "          \n",
    "    else:\n",
    "        print('Please enter a digit!')\n"
   ]
  },
  {
   "cell_type": "code",
   "execution_count": 48,
   "metadata": {},
   "outputs": [
    {
     "name": "stdout",
     "output_type": "stream",
     "text": [
      "Great Guess!\n"
     ]
    }
   ],
   "source": [
    "# [ ] use a while True loop (forever loop) to give 4 chances for input of a correct color in a rainbow\n",
    "# rainbow = \"red orange yellow green blue indigo violet\"\n",
    "count = 0\n",
    "rainbow = \"red orange yellow green blue indigo violet\"\n",
    "\n",
    "while True:\n",
    "    color = input(\"Enter a color of the rainbow:\")\n",
    "    if color in rainbow:\n",
    "        count += 1\n",
    "        if count == 4:\n",
    "            break\n",
    "        if color in rainbow == \"red orange yellow green blue indigo violet\":\n",
    "            print(\"Great Guess!\")\n",
    "            break\n",
    "    else:\n",
    "        print(\"enter only a valid color\")\n",
    "        break\n"
   ]
  },
  {
   "cell_type": "code",
   "execution_count": 53,
   "metadata": {},
   "outputs": [
    {
     "name": "stdout",
     "output_type": "stream",
     "text": [
      "This is a title\n"
     ]
    }
   ],
   "source": [
    "# [ ] Get input for a book title, keep looping while input is Not in title format (title is every word capitalized)\n",
    "title = \"\"\n",
    "while True:\n",
    "    title = input(\"Enter your book title:\")\n",
    "\n",
    "    if title == title.title():\n",
    "        print(\"This is a title\")\n",
    "        break\n",
    "    else:\n",
    "        title = input(\"Enter your book title:\")\n",
    "\n"
   ]
  },
  {
   "cell_type": "code",
   "execution_count": 59,
   "metadata": {},
   "outputs": [
    {
     "name": "stdout",
     "output_type": "stream",
     "text": [
      "\n",
      "Correct --- 2 * 2 = 4\n"
     ]
    }
   ],
   "source": [
    "# [ ] create a math quiz question and ask for the solution until the input is correct\n",
    "\n",
    "answer = \"4\"\n",
    "user_answer = input(\"What is 2 * 2?\")\n",
    "\n",
    "while answer != user_answer:\n",
    "    print(\"Incorrect\")\n",
    "    user_answer = input(\"What is 2 * 2?\")\n",
    "\n",
    "print(\"\\nCorrect --- 2 * 2 = 4\")"
   ]
  },
  {
   "cell_type": "markdown",
   "metadata": {},
   "source": [
    "### Fix the Error"
   ]
  },
  {
   "cell_type": "code",
   "execution_count": 63,
   "metadata": {},
   "outputs": [
    {
     "name": "stdout",
     "output_type": "stream",
     "text": [
      "sorry, not a winner.\n",
      "sorry, not a winner.\n",
      "you win!\n",
      "you win!\n",
      "Game ended\n"
     ]
    }
   ],
   "source": [
    "# [ ] review the code, run, fix the error\n",
    "tickets = int(input(\"enter tickets remaining (0 to quit): \"))\n",
    "\n",
    "while tickets > 0:\n",
    "        # if tickets are multiple of 3 then \"winner\"\n",
    "    if int(tickets/3) == tickets/3:\n",
    "        print(\"you win!\")\n",
    "    else:\n",
    "        print(\"sorry, not a winner.\")\n",
    "    tickets = int(input(\"enter tickets remaining (0 to quit): \"))\n",
    "\n",
    "print(\"Game ended\")\n",
    "    \n"
   ]
  },
  {
   "cell_type": "markdown",
   "metadata": {},
   "source": [
    "### create a function: quiz_item()  that asks a question and tests if input is correct  \n",
    "- quiz_item()has 2 parameter **strings**: question and solution  \n",
    "- shows question, gets answer input  \n",
    "- returns True if `answer == solution` or continues to ask question until correct answer is provided  \n",
    "- use a while loop\n",
    "\n",
    "create 2 or more quiz questions that call quiz_item()  \n",
    "**Hint**: provide multiple choice or T/F answers"
   ]
  },
  {
   "cell_type": "code",
   "execution_count": 68,
   "metadata": {},
   "outputs": [
    {
     "name": "stdout",
     "output_type": "stream",
     "text": [
      "Correct!\n",
      "Correct!\n"
     ]
    }
   ],
   "source": [
    "# Create quiz_item() and 2 or more quiz questions that call quiz_item()\n",
    "\n",
    "#quiz_item()has 2 parameter strings: question and solution\n",
    "def quiz_item(question, solution):\n",
    "    answer = input(question)\n",
    "    \n",
    "    while True:\n",
    "        if answer.upper() != solution:\n",
    "            print(\"Incorrect!\")\n",
    "            answer = input(question)\n",
    "        else:\n",
    "            print(\"Correct!\")\n",
    "            break\n",
    "        \n",
    "\n",
    "\n",
    "quiz_one = \"(T/F): KSU is a great school!\"\n",
    "quiz_one_answer = \"T\"\n",
    "quiz_item(quiz_one , quiz_one_answer)\n",
    "\n",
    "quiz_two = \"(T/F): I am learning a lot about Python in this course!\"\n",
    "quiz_two_answer = \"T\"\n",
    "quiz_item(quiz_two , quiz_two_answer)"
   ]
  },
  {
   "cell_type": "markdown",
   "metadata": {
    "collapsed": true
   },
   "source": [
    "[Terms of use](http://go.microsoft.com/fwlink/?LinkID=206977) &nbsp; [Privacy & cookies](https://go.microsoft.com/fwlink/?LinkId=521839) &nbsp; © 2017 Microsoft"
   ]
  }
 ],
 "metadata": {
  "anaconda-cloud": {},
  "kernelspec": {
   "display_name": "Python 3",
   "language": "python",
   "name": "python3"
  },
  "language_info": {
   "codemirror_mode": {
    "name": "ipython",
    "version": 3
   },
   "file_extension": ".py",
   "mimetype": "text/x-python",
   "name": "python",
   "nbconvert_exporter": "python",
   "pygments_lexer": "ipython3",
   "version": "3.10.1"
  }
 },
 "nbformat": 4,
 "nbformat_minor": 1
}
