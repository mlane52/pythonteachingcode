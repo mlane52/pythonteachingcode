{
 "cells": [
  {
   "cell_type": "markdown",
   "metadata": {},
   "source": [
    "# Module 3 Practice 1\n",
    "## Conditionals \n",
    "<font size=\"5\" color=\"#00A0B2\"  face=\"verdana\"> <B>Student will be able to</B></font>  \n",
    "- **control code flow with `if`... `else` conditional logic**  \n",
    "  - using Boolean string methods (`.isupper(), .isalpha(), .startswith()...`)  \n",
    "  - using comparision (`>, <, >=, <=, ==, !=`)  \n",
    "  - using Strings in comparisons  \n",
    "\n",
    "## `if else`\n"
   ]
  },
  {
   "cell_type": "code",
   "execution_count": 4,
   "metadata": {},
   "outputs": [
    {
     "name": "stdout",
     "output_type": "stream",
     "text": [
      "It is good to be 6\n"
     ]
    }
   ],
   "source": [
    "# [ ] input avariable: age as digit and cast to int\n",
    "# if age greater than or equal to 12 then print message on age in 10 years \n",
    "# or else print message \"It is good to be\" age\n",
    "\n",
    "age = input(\"How old are you?\")\n",
    "age = int(age)\n",
    "\n",
    "if age >= 12:\n",
    "    print(\"You will be\" , age + 10 , \"in 10 years1\")\n",
    "else:\n",
    "    print(\"It is good to be\" , age)\n",
    "\n"
   ]
  },
  {
   "cell_type": "code",
   "execution_count": 37,
   "metadata": {
    "collapsed": true
   },
   "outputs": [
    {
     "name": "stdout",
     "output_type": "stream",
     "text": [
      "Only int is accpeted\n"
     ]
    }
   ],
   "source": [
    "# [ ] input a number \n",
    "# if number IS a digit string then cast to int\n",
    "# print number \"greater than 100 is\" True/False\n",
    "# if number is NOT a digit string then message the user that \"only int is accepted\"\n",
    "number =int(input('enter number: '))\n",
    "if str(number) == number:\n",
    "    print('Only int is accpeted')\n",
    "elif number >=100:\n",
    "    print(\"True\")\n",
    "elif number < 100:\n",
    "    print(\"False\")\n",
    "\n",
    "\n"
   ]
  },
  {
   "cell_type": "markdown",
   "metadata": {},
   "source": [
    "### Guessing a letter A-Z  \n",
    "**check_guess()** takes 2 string arguments: **letter and guess** (both expect single alphabetical character)   \n",
    "    - if guess is not an alpha character print invalid and return False\n",
    "    - test and print if guess is \"high\" or \"low\" and return False\n",
    "    - test and print if guess is \"correct\" and return True"
   ]
  },
  {
   "cell_type": "code",
   "execution_count": 54,
   "metadata": {
    "collapsed": true
   },
   "outputs": [
    {
     "data": {
      "text/plain": [
       "<function __main__.check_guess(guess, letter)>"
      ]
     },
     "execution_count": 54,
     "metadata": {},
     "output_type": "execute_result"
    }
   ],
   "source": [
    "# [ ] create check_guess()\n",
    "# call with test\n",
    "\n",
    "def check_guess (guess, letter):\n",
    "    if not guess.isalpha():\n",
    "        print(\"Invalid\")\n",
    "        return False\n",
    "    if letter == guess.upper():\n",
    "        return True\n",
    "    elif letter < guess.upper():\n",
    "        print (\"Your guess is High\")\n",
    "        return False\n",
    "    else:\n",
    "        print (\"Your guess is Low\")\n",
    "        return False\n",
    "check_guess"
   ]
  },
  {
   "cell_type": "code",
   "execution_count": 60,
   "metadata": {
    "collapsed": true
   },
   "outputs": [
    {
     "data": {
      "text/plain": [
       "<function __main__.check_guess(guess, letter)>"
      ]
     },
     "execution_count": 60,
     "metadata": {},
     "output_type": "execute_result"
    }
   ],
   "source": [
    "# [ ] call check_guess with user input\n",
    "\n",
    "letter = input()\n",
    "\n",
    "def check_guess (guess, letter):\n",
    "    if not guess.isalpha():\n",
    "        print(\"Invalid\")\n",
    "        return False\n",
    "    if letter == guess.upper():\n",
    "        return True\n",
    "    elif letter < guess.upper():\n",
    "        print (\"Your guess is High\")\n",
    "        return False\n",
    "    else:\n",
    "        print (\"Your guess is Low\")\n",
    "        return False\n",
    "check_guess\n"
   ]
  },
  {
   "cell_type": "markdown",
   "metadata": {},
   "source": [
    "### Letter Guess\n",
    "**create letter_guess() function that gives user 3 guesses**\n",
    "- takes a letter character argument for the answer letter\n",
    "- gets user input for letter guess  \n",
    "- calls check_guess() with answer and guess\n",
    "- End letter_guess if \n",
    "    - check_guess() equals True, return True  \n",
    "    - or after 3 failed attempts, return False"
   ]
  },
  {
   "cell_type": "code",
   "execution_count": 39,
   "metadata": {
    "collapsed": true
   },
   "outputs": [
    {
     "name": "stdout",
     "output_type": "stream",
     "text": [
      "Your guess is Low\n",
      "Your guess is Low\n",
      "Your guess is Low\n",
      "The answer was  Z\n"
     ]
    }
   ],
   "source": [
    "# [ ] create letter_guess() function, call the function to test\n",
    "letter = \"Z\"\n",
    "tries = 3\n",
    "\n",
    "def check_guess (guess, letter):\n",
    "    if not guess.isalpha():\n",
    "        print(\"Invalid\")\n",
    "        return False\n",
    "    if letter == guess.upper():\n",
    "        return True\n",
    "    elif letter < guess.upper():\n",
    "        print (\"Your guess is High\")\n",
    "        return False\n",
    "    else:\n",
    "        print (\"Your guess is Low\")\n",
    "        return False\n",
    "\n",
    "def letter_guess():\n",
    "    for correct in range(tries):\n",
    "        guess = input (\"Enter your guess \")\n",
    "        correct = check_guess (guess, letter)\n",
    "        if correct:\n",
    "            print (\"Correct!\")\n",
    "            return True\n",
    "    return False\n",
    "\n",
    "correct = letter_guess()\n",
    "if correct:\n",
    "    print (\"Congratulations\")\n",
    "else:\n",
    "    print (\"The answer was \",letter)"
   ]
  },
  {
   "cell_type": "markdown",
   "metadata": {},
   "source": [
    "### Pet Conversation\n",
    "**ask the user for a sentence about a pet and then reply**  \n",
    "- get user input in variable: about_pet\n",
    "- using a series of **if** statements respond with appropriate conversation\n",
    "  - check if \"dog\" is in the string about_pet (sample reply \"Ah, a dog\")\n",
    "  - check if \"cat\" is in the string about_pet\n",
    "  - check if 1 or more animal is in string about_pet\n",
    "- no need for **else**'s\n",
    "- finish with thanking for the story"
   ]
  },
  {
   "cell_type": "code",
   "execution_count": 43,
   "metadata": {
    "collapsed": true
   },
   "outputs": [
    {
     "name": "stdout",
     "output_type": "stream",
     "text": [
      "Ah, a cat\n",
      "Thank you for the story\n"
     ]
    }
   ],
   "source": [
    "# [ ] complete pet conversation\n",
    "about_pet = input('Talk about a pet!')\n",
    "\n",
    "if 'dog' in about_pet.lower():\n",
    "    print(\"Ah, a dog\")\n",
    "if 'cat' in about_pet.lower():\n",
    "    print(\"Ah, a cat\")\n",
    "if 'dog' in about_pet.lower() or 'cat' in about_pet.lower():\n",
    "    print(\"Thank you for the story\")"
   ]
  },
  {
   "cell_type": "markdown",
   "metadata": {},
   "source": [
    "# Module 3 Practice 2\n",
    "## conditionals, type, and mathematics extended   \n",
    "&nbsp;\n",
    "<font size=\"5\" color=\"#00A0B2\"  face=\"verdana\"> <B>Student will be able to</B></font>  \n",
    "- code more than two choices using **`elif`** \n",
    "- gather numeric input using type casting  \n",
    "- perform subtraction, multiplication and division operations in code  &nbsp;  \n"
   ]
  },
  {
   "cell_type": "markdown",
   "metadata": {},
   "source": [
    "# &nbsp;  \n",
    "<font size=\"6\" color=\"#B24C00\"  face=\"verdana\"> <B>Tasks</B></font>"
   ]
  },
  {
   "cell_type": "markdown",
   "metadata": {},
   "source": [
    "### Rainbow colors\n",
    "ask for input of a favorite rainbow color first letter: ROYGBIV  \n",
    "\n",
    "Using `if`, `elif`, and `else`:  \n",
    "- print the color matching the letter  \n",
    "    - R = Red  \n",
    "    - O = Orange  \n",
    "    - Y = Yellow  \n",
    "    - G = Green\n",
    "    - B = Blue\n",
    "    - I = Indigo\n",
    "    - V = Violet\n",
    "    - else print \"no match\"\n"
   ]
  },
  {
   "cell_type": "code",
   "execution_count": 48,
   "metadata": {},
   "outputs": [
    {
     "name": "stdout",
     "output_type": "stream",
     "text": [
      "Red\n"
     ]
    }
   ],
   "source": [
    "# [ ] complete rainbow colors\n",
    "rainbow_color = input(\"Favorite rainbow color?\")\n",
    "if rainbow_color == \"R\":\n",
    "    print(\"Red\")\n",
    "elif rainbow_color == \"O\":\n",
    "    print(\"Orange\")\n",
    "elif rainbow_color == \"Y\":\n",
    "    print(\"Yellow\")\n",
    "elif rainbow_color == \"G\":\n",
    "    print(\"Green\")\n",
    "elif rainbow_color == \"B\":\n",
    "    print(\"Blue\")\n",
    "elif rainbow_color == \"I\":\n",
    "    print(\"Indigo\")\n",
    "elif rainbow_color == \"V\":\n",
    "    print(\"Violet\")\n",
    "else:\n",
    "    print(\"no match\")\n",
    "\n"
   ]
  },
  {
   "cell_type": "code",
   "execution_count": 82,
   "metadata": {},
   "outputs": [
    {
     "name": "stdout",
     "output_type": "stream",
     "text": [
      "Red\n"
     ]
    }
   ],
   "source": [
    "# [ ] make the code above into a function rainbow_color() that has a string parameter, \n",
    "# get input and call the function and return the matching color as a string or \"no match\" message.\n",
    "# Call the function and print the return string.\n",
    "\n",
    "def rain_col():\n",
    "    rainbow_color = input(\"Favorite rainbow color?\")\n",
    "    if rainbow_color == \"R\":\n",
    "        return print(\"Red\")\n",
    "    elif rainbow_color == \"O\":\n",
    "        return print(\"Orange\")\n",
    "    elif rainbow_color == \"Y\":\n",
    "        return print(\"Yellow\")\n",
    "    elif rainbow_color == \"G\":\n",
    "        return print(\"Green\")\n",
    "    elif rainbow_color == \"B\":\n",
    "        return print(\"Blue\")\n",
    "    elif rainbow_color == \"I\":\n",
    "        return print(\"Indigo\")\n",
    "    elif rainbow_color == \"V\":\n",
    "        return print(\"Violet\")\n",
    "    else:\n",
    "        return print(\"no match\")\n",
    "rain_col()"
   ]
  },
  {
   "cell_type": "markdown",
   "metadata": {},
   "source": [
    "# &nbsp;  \n",
    "**Create function age_20() that adds or subtracts 20 from your age for a return value based on current age** (use `if`) \n",
    "- call the funtion with user input and then use the return value in a sentence  \n",
    "example `age_20(25)` returns **5**: \n",
    "> \"5 years old, 20 years difference from now\""
   ]
  },
  {
   "cell_type": "code",
   "execution_count": 65,
   "metadata": {},
   "outputs": [
    {
     "name": "stdout",
     "output_type": "stream",
     "text": [
      "(5, 'years old, 20 years from now')\n"
     ]
    }
   ],
   "source": [
    "# [ ] complete age_20()\n",
    "def age_20():\n",
    "    current_age = int(input(\"Enter your current age: \"))\n",
    "    if int(current_age) >= 20:\n",
    "        return (int(current_age)) - 20,(\"years old, 20 years from now\")\n",
    "    elif int(current_age) <= 20:\n",
    "        return (int(current_age)) + 20,(\"years old, 20 years in the future\")\n",
    "print(age_20())\n",
    "\n"
   ]
  },
  {
   "cell_type": "markdown",
   "metadata": {},
   "source": [
    "**create a function rainbow_or_age that takes a string argument**\n",
    "- if argument is a digit return the value of calling age_20() with the str value cast as **`int`** \n",
    "- if argument is an alphabetical character return the value of calling rainbow_color() with the str\n",
    "- if neither return FALSE"
   ]
  },
  {
   "cell_type": "code",
   "execution_count": 88,
   "metadata": {},
   "outputs": [
    {
     "name": "stdout",
     "output_type": "stream",
     "text": [
      "(3, 'years old, 20 years from now')\n"
     ]
    },
    {
     "ename": "AttributeError",
     "evalue": "'function' object has no attribute 'isdigit'",
     "output_type": "error",
     "traceback": [
      "\u001b[1;31m---------------------------------------------------------------------------\u001b[0m",
      "\u001b[1;31mAttributeError\u001b[0m                            Traceback (most recent call last)",
      "\u001b[1;32mc:\\Users\\mwlan\\Documents\\GitHub\\pythonteachingcode\\Python Absolute Beginner\\Module_3.1_Practice.ipynb Cell 19'\u001b[0m in \u001b[0;36m<module>\u001b[1;34m\u001b[0m\n\u001b[0;32m     <a href='vscode-notebook-cell:/c%3A/Users/mwlan/Documents/GitHub/pythonteachingcode/Python%20Absolute%20Beginner/Module_3.1_Practice.ipynb#ch0000018?line=34'>35</a>\u001b[0m   \u001b[39melse\u001b[39;00m:\n\u001b[0;32m     <a href='vscode-notebook-cell:/c%3A/Users/mwlan/Documents/GitHub/pythonteachingcode/Python%20Absolute%20Beginner/Module_3.1_Practice.ipynb#ch0000018?line=35'>36</a>\u001b[0m     \u001b[39mreturn\u001b[39;00m \u001b[39mFalse\u001b[39;00m\n\u001b[1;32m---> <a href='vscode-notebook-cell:/c%3A/Users/mwlan/Documents/GitHub/pythonteachingcode/Python%20Absolute%20Beginner/Module_3.1_Practice.ipynb#ch0000018?line=36'>37</a>\u001b[0m rainbow_or_age()\n",
      "\u001b[1;32mc:\\Users\\mwlan\\Documents\\GitHub\\pythonteachingcode\\Python Absolute Beginner\\Module_3.1_Practice.ipynb Cell 19'\u001b[0m in \u001b[0;36mrainbow_or_age\u001b[1;34m()\u001b[0m\n\u001b[0;32m     <a href='vscode-notebook-cell:/c%3A/Users/mwlan/Documents/GitHub/pythonteachingcode/Python%20Absolute%20Beginner/Module_3.1_Practice.ipynb#ch0000018?line=29'>30</a>\u001b[0m \u001b[39mdef\u001b[39;00m \u001b[39mrainbow_or_age\u001b[39m():\n\u001b[1;32m---> <a href='vscode-notebook-cell:/c%3A/Users/mwlan/Documents/GitHub/pythonteachingcode/Python%20Absolute%20Beginner/Module_3.1_Practice.ipynb#ch0000018?line=30'>31</a>\u001b[0m   \u001b[39mif\u001b[39;00m age_20\u001b[39m.\u001b[39;49misdigit():\n\u001b[0;32m     <a href='vscode-notebook-cell:/c%3A/Users/mwlan/Documents/GitHub/pythonteachingcode/Python%20Absolute%20Beginner/Module_3.1_Practice.ipynb#ch0000018?line=31'>32</a>\u001b[0m     \u001b[39mreturn\u001b[39;00m age_20(\u001b[39mint\u001b[39m)\n\u001b[0;32m     <a href='vscode-notebook-cell:/c%3A/Users/mwlan/Documents/GitHub/pythonteachingcode/Python%20Absolute%20Beginner/Module_3.1_Practice.ipynb#ch0000018?line=32'>33</a>\u001b[0m   \u001b[39melif\u001b[39;00m rain_col\u001b[39m.\u001b[39misalpha():\n",
      "\u001b[1;31mAttributeError\u001b[0m: 'function' object has no attribute 'isdigit'"
     ]
    }
   ],
   "source": [
    "# [ ]  create rainbow_or_age()\n",
    "\n",
    "def age_20():\n",
    "    current_age = int(input(\"Enter your current age: \"))\n",
    "    if int(current_age) >= 20:\n",
    "        return (int(current_age)) - 20,(\"years old, 20 years from now\")\n",
    "    elif int(current_age) <= 20:\n",
    "        return (int(current_age)) + 20,(\"years old, 20 years in the future\")\n",
    "print(age_20())\n",
    "def rain_col():\n",
    "    rainbow_color = str(input(\"Favorite rainbow color?\"))\n",
    "    if rainbow_color == \"R\":\n",
    "        return print(\"Red\")\n",
    "    elif rainbow_color == \"O\":\n",
    "        return print(\"Orange\")\n",
    "    elif rainbow_color == \"Y\":\n",
    "        return print(\"Yellow\")\n",
    "    elif rainbow_color == \"G\":\n",
    "        return print(\"Green\")\n",
    "    elif rainbow_color == \"B\":\n",
    "        return print(\"Blue\")\n",
    "    elif rainbow_color == \"I\":\n",
    "        return print(\"Indigo\")\n",
    "    elif rainbow_color == \"V\":\n",
    "        return print(\"Violet\")\n",
    "    else:\n",
    "        return print(\"no match\")\n",
    "\n",
    "\n",
    "def rainbow_or_age():\n",
    "  if age_20.isdigit():\n",
    "    return age_20(int)\n",
    "  elif rain_col.isalpha():\n",
    "    return rain_col(str)\n",
    "  else:\n",
    "    return False\n",
    "rainbow_or_age()\n",
    "\n",
    "\n"
   ]
  },
  {
   "cell_type": "code",
   "execution_count": 90,
   "metadata": {},
   "outputs": [
    {
     "name": "stdout",
     "output_type": "stream",
     "text": [
      "= 3\n"
     ]
    }
   ],
   "source": [
    "# [ ]  add 2 numbers from input using a cast to integer and display the answer \n",
    "number_1 = input(\"enter number\")\n",
    "number_2 = input(\"enter second number\")\n",
    "sum = int(number_1) + int(number_2)\n",
    "print(\"=\",sum)\n"
   ]
  },
  {
   "cell_type": "code",
   "execution_count": 91,
   "metadata": {},
   "outputs": [
    {
     "name": "stdout",
     "output_type": "stream",
     "text": [
      "the answer is 8\n"
     ]
    }
   ],
   "source": [
    "# [ ] Multiply 2 numbers from input using cast and save the answer as part of a string \"the answer is...\"\n",
    "# display the string using print\n",
    "number_1 = input(\"enter number\")\n",
    "number_2 = input(\"enter second number\")\n",
    "product = int(number_1) * int(number_2)\n",
    "print(\"the answer is\",product)\n"
   ]
  },
  {
   "cell_type": "code",
   "execution_count": 92,
   "metadata": {},
   "outputs": [
    {
     "name": "stdout",
     "output_type": "stream",
     "text": [
      "the average is 1.5\n"
     ]
    }
   ],
   "source": [
    "# [ ] get input of 2 numbers and display the average: (num1 + num2) divided by 2\n",
    "number_1 = input(\"enter number\")\n",
    "number_2 = input(\"enter second number\")\n",
    "average = (int(number_1) + int(number_2)) / 2\n",
    "print(\"the average is\",average)\n"
   ]
  },
  {
   "cell_type": "code",
   "execution_count": 93,
   "metadata": {},
   "outputs": [
    {
     "name": "stdout",
     "output_type": "stream",
     "text": [
      "-2\n"
     ]
    }
   ],
   "source": [
    "# [ ] get input of 2 numbers and subtract the largest from the smallest (use an if statement to see which is larger)\n",
    "# show the answer\n",
    "number_1 = input(\"enter number\")\n",
    "number_2 = input(\"enter second number\")\n",
    "if number_1<number_2:\n",
    "    print(int(number_1) - int(number_2))\n",
    "else:\n",
    "    print(int(number_2) - int(number_1))\n"
   ]
  },
  {
   "cell_type": "code",
   "execution_count": 94,
   "metadata": {},
   "outputs": [
    {
     "name": "stdout",
     "output_type": "stream",
     "text": [
      "0\n"
     ]
    }
   ],
   "source": [
    "# [ ] Divide a larger number by a smaller number and print the integer part of the result\n",
    "# don't divide by zero! if a zero is input make the result zero\n",
    "# [ ] cast the answer to an integer to cut off the decimals and print the result\n",
    "number_1 = input(\"enter number\")\n",
    "number_2 = input(\"enter second number\")\n",
    "if number_1 == \"0\" or number_2 == \"0\":\n",
    "    print(\"0\")\n",
    "elif number_1<number_2:\n",
    "    print(int(int(number_2)/ int(number_1)))\n",
    "else:\n",
    "    print(int(int(number_1) / int(number_2)))\n",
    "\n"
   ]
  },
  {
   "cell_type": "markdown",
   "metadata": {
    "collapsed": true
   },
   "source": [
    "[Terms of use](http://go.microsoft.com/fwlink/?LinkID=206977) &nbsp; [Privacy & cookies](https://go.microsoft.com/fwlink/?LinkId=521839) &nbsp; © 2017 Microsoft"
   ]
  }
 ],
 "metadata": {
  "anaconda-cloud": {},
  "kernelspec": {
   "display_name": "Python 3",
   "language": "python",
   "name": "python3"
  },
  "language_info": {
   "codemirror_mode": {
    "name": "ipython",
    "version": 3
   },
   "file_extension": ".py",
   "mimetype": "text/x-python",
   "name": "python",
   "nbconvert_exporter": "python",
   "pygments_lexer": "ipython3",
   "version": "3.8.8"
  }
 },
 "nbformat": 4,
 "nbformat_minor": 1
}
